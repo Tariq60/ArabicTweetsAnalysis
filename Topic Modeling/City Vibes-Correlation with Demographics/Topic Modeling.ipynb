{
 "cells": [
  {
   "cell_type": "code",
   "execution_count": 1,
   "metadata": {
    "collapsed": false
   },
   "outputs": [
    {
     "data": {
      "text/plain": [
       "'C:\\\\Users\\\\Tariq\\\\Dropbox (MIT)\\\\Projects\\\\3. ITS\\\\Tweet Topics-Demographics Corr'"
      ]
     },
     "execution_count": 1,
     "metadata": {},
     "output_type": "execute_result"
    }
   ],
   "source": [
    "# -\"- coding: utf-8 -\"-\n",
    "from __future__ import division\n",
    "import re\n",
    "from gensim import corpora, models, similarities\n",
    "import pickle\n",
    "import numpy as np\n",
    "import pandas as pd\n",
    "import os\n",
    "import operator\n",
    "os.getcwd()"
   ]
  },
  {
   "cell_type": "code",
   "execution_count": 16,
   "metadata": {
    "collapsed": true
   },
   "outputs": [],
   "source": [
    "f = open('all.txt','rb') \n",
    "gTweets = f.readlines()\n",
    "gText, lat, lon, gTextraw = [], [], [], []\n",
    "for tweet in gTweets:\n",
    "    gText.append(tweet.decode('utf-8').split('\"text\": \"')[1].split('\", \"place\":')[0])\n",
    "    lat.append(str(tweet).split('\"coordinates\": [ ')[1].split(',')[0])\n",
    "    lon.append(str(tweet).split('\"coordinates\": [ ')[1].split(',')[1].split(' ]')[0][1:])\n",
    "    gTextraw.append(tweet.decode('utf-8').split('\"text\": \"')[1].split('\", \"place\":')[0])"
   ]
  },
  {
   "cell_type": "code",
   "execution_count": null,
   "metadata": {
    "collapsed": false
   },
   "outputs": [],
   "source": [
    "for i in range(0,len(gText)):\n",
    "    gText[i] = gText[i].replace(\"ـ\",\"\")\n",
    "    gText[i] = re.findall(\"[ء-غف-ي]+\",gText[i])\n",
    "\n",
    "n_words = []\n",
    "for text in gText:\n",
    "    n_words.append(len(text))"
   ]
  },
  {
   "cell_type": "code",
   "execution_count": null,
   "metadata": {
    "collapsed": false
   },
   "outputs": [],
   "source": [
    "f2 = open('tweets3_tokens.csv','wb')\n",
    "f2.write(('lat,lon,n_words,words\\n').encode('utf-8'))\n",
    "for i in range(0,len(gText)):\n",
    "    if lat[i][0] == '[':\n",
    "        continue\n",
    "    f2.write((str(lat[i])+', '+str(lon[i])+', '+str(n_words[i])+',').encode('utf-8'))\n",
    "    for text in gText[i]:\n",
    "        f2.write((' '+text).encode('utf-8'))\n",
    "    f2.write('\\n'.encode('utf-8'))\n",
    "f2.close()"
   ]
  },
  {
   "cell_type": "code",
   "execution_count": 18,
   "metadata": {
    "collapsed": true
   },
   "outputs": [],
   "source": [
    "stopwords = open(\"C:\\\\Users\\\\Tariq\\\\Dropbox (MIT)\\\\Projects\\\\3. ITS\\\\Arabic NLP Resources\\\\stopwords.txt\",\"rb\").readlines()\n",
    "for i in range(len(stopwords)):\n",
    "    stopwords[i] = stopwords[i].decode('utf8')\n",
    "    stopwords[i] = stopwords[i].split(\"\\r\")[0]\n",
    "stopwords = stopwords[1:]"
   ]
  },
  {
   "cell_type": "code",
   "execution_count": 2,
   "metadata": {
    "collapsed": false
   },
   "outputs": [],
   "source": [
    "twt = pd.read_csv('tweets3_tokens_nei.csv',encoding='utf-8')\n",
    "words = twt['words'].values\n",
    "nei = twt['NEIGHBORH1'].values\n",
    "n_words= twt['n_words'].values"
   ]
  },
  {
   "cell_type": "code",
   "execution_count": 45,
   "metadata": {
    "collapsed": false
   },
   "outputs": [
    {
     "data": {
      "text/plain": [
       "[(20, 0.16833333333333367),\n",
       " (46, 0.50166666666666759),\n",
       " (56, 0.16833333333333367)]"
      ]
     },
     "execution_count": 45,
     "metadata": {},
     "output_type": "execute_result"
    }
   ],
   "source": [
    "words[0].replace('آ','ا').replace('أ','ا').split()\n",
    "texts[0]\n",
    "\n",
    "corpus_lda[0]"
   ]
  },
  {
   "cell_type": "code",
   "execution_count": 19,
   "metadata": {
    "collapsed": false
   },
   "outputs": [],
   "source": [
    "# More Cleaning: Removing 'NaN', Normalizing some characters, Removing stop words\n",
    "cln_words = []\n",
    "for i in range(0,len(words)):\n",
    "    if words[i] != words[i]:     #Removing NaNs in words\n",
    "        words[i] = ''\n",
    "    if nei[i] != nei[i]:         #Removing NaNs in nei\n",
    "        nei[i] = ''\n",
    "    cln_word = []\n",
    "    for word in words[i].split():\n",
    "        if word not in stopwords and len(word) > 2:\n",
    "            word = word.replace(\"أ\",\"ا\")\n",
    "            word = word.replace(\"إ\",\"ا\")\n",
    "            word = word.replace(\"اً\",\"ا\")\n",
    "            word = word.replace(\"ؤ\",\"و\")\n",
    "            word = word.replace(\"ئ\",\"ي\")\n",
    "            word = word.replace(\"ة\",\"ه\")\n",
    "            cln_word.append(word)\n",
    "    cln_words.append(cln_word)"
   ]
  },
  {
   "cell_type": "code",
   "execution_count": null,
   "metadata": {
    "collapsed": false
   },
   "outputs": [],
   "source": [
    "#lens = [len(tweet) for tweet in cln_words]\n",
    "counts = [1 for tweet in lens if tweet > 9]\n",
    "sum(counts), len(lens)"
   ]
  },
  {
   "cell_type": "code",
   "execution_count": null,
   "metadata": {
    "collapsed": false
   },
   "outputs": [],
   "source": [
    "#word_clusters2 = defaultdict(list)\n",
    "\n",
    "word_clusters = {}\n",
    "for n in nei:\n",
    "    word_clusters[n] = []\n",
    "del word_clusters['']\n",
    "\n",
    "for i in range(0,len(nei)):\n",
    "    for word in cln_words[i]:\n",
    "        if nei[i] != '':\n",
    "            word_clusters[nei[i]].append(word)\n",
    "            #word_clusters2[nei[i]].append(word)"
   ]
  },
  {
   "cell_type": "code",
   "execution_count": null,
   "metadata": {
    "collapsed": false
   },
   "outputs": [],
   "source": [
    "c = 0\n",
    "for n in word_clusters.keys():\n",
    "    if len(set(word_clusters[n])) > 6000:\n",
    "        c+=1\n",
    "for key in word_clusters.keys():\n",
    "    if len(word_clusters[key]) == 0:\n",
    "        print(word_clusters[key])\n",
    "word_clusters['AL-AMAJIYAH'],word_clusters['AL-WESITA']"
   ]
  },
  {
   "cell_type": "code",
   "execution_count": null,
   "metadata": {
    "collapsed": false
   },
   "outputs": [],
   "source": [
    "# Print Words Distribution for a given neighborhood to have an idea of how much a single word is repeated!\n",
    "len(word_clusters['AR-RAWABI']),len(set(word_clusters['AR-RAWABI']))\n",
    "frequency = defaultdict(int)\n",
    "for word in word_clusters['AR-RAWABI']:\n",
    "    frequency[word] += 1\n",
    "s = sorted(frequency.items(), key=operator.itemgetter(1), reverse=True)\n",
    "s"
   ]
  },
  {
   "cell_type": "code",
   "execution_count": 23,
   "metadata": {
    "collapsed": true
   },
   "outputs": [],
   "source": [
    "# remove words that appear only once\n",
    "from collections import defaultdict\n",
    "frequency = defaultdict(int)\n",
    "for text in cln_words:\n",
    "    for token in text:\n",
    "        frequency[token] += 1\n",
    "\n",
    "texts = [[token for token in text if frequency[token] > 1] for text in cln_words]"
   ]
  },
  {
   "cell_type": "code",
   "execution_count": null,
   "metadata": {
    "collapsed": false
   },
   "outputs": [],
   "source": [
    "sum([1 for tweet in texts if len(tweet)>10]),sum([1 for tweet in texts if len(tweet)==0]),len(texts)"
   ]
  },
  {
   "cell_type": "code",
   "execution_count": 25,
   "metadata": {
    "collapsed": true
   },
   "outputs": [],
   "source": [
    "dictionary = corpora.Dictionary(texts)\n",
    "corpus = [dictionary.doc2bow(text) for text in texts]\n",
    "lda = models.LdaModel(corpus, id2word=dictionary, num_topics=100)\n",
    "corpus_lda = lda[corpus]\n",
    "\n",
    "topics = lda.show_topics(100,100)\n",
    "#lda.log_perplexity(corpus)       =  -10.337044669545444\n",
    "# topic = lda.show_topic(95,500)"
   ]
  },
  {
   "cell_type": "code",
   "execution_count": null,
   "metadata": {
    "collapsed": false
   },
   "outputs": [],
   "source": [
    "# Extract Features from Geotagged Tweets    (i.e. apply LDA model)\n",
    "neighborhoods = word_clusters.keys()\n",
    "word_clusters_corpus = [dictionary.doc2bow(word_clusters[text]) for text in neighborhoods]\n",
    "word_clusters_lda = lda[word_clusters_corpus]"
   ]
  },
  {
   "cell_type": "code",
   "execution_count": null,
   "metadata": {
    "collapsed": false
   },
   "outputs": [],
   "source": [
    "# topic distributions per documents with unused topics set to zero\n",
    "nei_topics = [[]] * len(word_clusters_lda)\n",
    "j = 0\n",
    "for doc in word_clusters_lda:\n",
    "    nei_topics[j] = [0] * lda.num_topics\n",
    "    i = 0\n",
    "    while(i<len(doc)):\n",
    "        temp = doc[i]\n",
    "        nei_topics[j][temp[0]]=format(temp[1],'.4f')\n",
    "        i = i + 1\n",
    "    j = j + 1"
   ]
  },
  {
   "cell_type": "code",
   "execution_count": null,
   "metadata": {
    "collapsed": false
   },
   "outputs": [],
   "source": [
    "# export to perform correlation in R\n",
    "nei_ = pd.DataFrame(nei_topics)\n",
    "nei_['neighborhood'] = neighborhoods\n",
    "nei_.to_csv('nei_topic.csv')"
   ]
  },
  {
   "cell_type": "code",
   "execution_count": null,
   "metadata": {
    "collapsed": false
   },
   "outputs": [],
   "source": [
    "# exporting top 100 words for each topic to generate wordclouds of selected topics\n",
    "topic_words = pd.DataFrame()\n",
    "for i in range(0,100):\n",
    "    word, freq = [], []\n",
    "    for row in lda.show_topic(i,100):\n",
    "        word.append(row[0])\n",
    "        freq.append(row[1])\n",
    "    freq_mult = 1/float(freq[-1])\n",
    "    freq = [float(value) * freq_mult for value in freq]\n",
    "    topic_words['word_'+str(i)] = word\n",
    "    topic_words['freq_'+str(i)] = freq\n",
    "\n",
    "topic_words.to_excel('topic_words.xlsx', encoding='utf-8')"
   ]
  },
  {
   "cell_type": "code",
   "execution_count": null,
   "metadata": {
    "collapsed": false
   },
   "outputs": [],
   "source": [
    "nei_topics"
   ]
  },
  {
   "cell_type": "code",
   "execution_count": null,
   "metadata": {
    "collapsed": false
   },
   "outputs": [],
   "source": [
    "neighborhoods"
   ]
  },
  {
   "cell_type": "code",
   "execution_count": null,
   "metadata": {
    "collapsed": false
   },
   "outputs": [],
   "source": [
    "# Simple WordCloud\n",
    "from os import path\n",
    "from scipy.misc import imread\n",
    "import matplotlib.pyplot as plt\n",
    "import random\n",
    "\n",
    "from wordcloud import WordCloud, STOPWORDS\n",
    "\n",
    "text = ''\n",
    "wordcloud = WordCloud(relative_scaling = 1.0, stopwords = 'to of').generate(text)\n",
    "\n",
    "plt.imshow(wordcloud)\n",
    "plt.axis(\"off\")\n",
    "plt.show()"
   ]
  },
  {
   "cell_type": "code",
   "execution_count": null,
   "metadata": {
    "collapsed": true
   },
   "outputs": [],
   "source": [
    "#Dump\n",
    "\n",
    "\n",
    "\n",
    "\n",
    "\n",
    "# another way to read a unicode file\n",
    "f = codecs.open(\"tweets.txt\", \"r\", \"utf-8\")\n",
    "lines = f.readlines()\n",
    "re.sub(\"[^ء-غف-ي ]\", \"\", lines[224470])\n",
    "\n",
    "#\n",
    "export = pd.DataFrame({'lat':lat,'lon':lon,'n_words':n_words})\n",
    "export.to_csv('word_counts.csv')"
   ]
  },
  {
   "cell_type": "code",
   "execution_count": null,
   "metadata": {
    "collapsed": false
   },
   "outputs": [],
   "source": [
    "len(cln_words),len(n_words),len(nei)\n",
    "\n",
    "word_clusters = {}\n",
    "for n in nei:\n",
    "    word_clusters[n] = []\n",
    "del word_clusters['']\n",
    "\n",
    "for i in range(0,len(nei)):\n",
    "    for word in cln_words[i]:\n",
    "        if nei[i] != '':\n",
    "            word_clusters[nei[i]].append(word)"
   ]
  },
  {
   "cell_type": "code",
   "execution_count": null,
   "metadata": {
    "collapsed": false
   },
   "outputs": [],
   "source": [
    "word_counts = {}\n",
    "for n in nei:\n",
    "    word_counts[n] = 0\n",
    "#del word_counts['']\n",
    "\n",
    "for i in range(0,len(nei)):\n",
    "    if nei[i] != '':\n",
    "        word_counts[nei[i]] += n_words[i]"
   ]
  },
  {
   "cell_type": "code",
   "execution_count": null,
   "metadata": {
    "collapsed": true
   },
   "outputs": [],
   "source": [
    "tweet_counts = {}\n",
    "for n in nei:\n",
    "    tweet_counts[n] = 0\n",
    "#del word_counts['']\n",
    "\n",
    "for i in range(0,len(nei)):\n",
    "    if nei[i] != '':\n",
    "        tweet_counts[nei[i]] += 1"
   ]
  },
  {
   "cell_type": "code",
   "execution_count": null,
   "metadata": {
    "collapsed": false
   },
   "outputs": [],
   "source": [
    "word_counts"
   ]
  }
 ],
 "metadata": {
  "kernelspec": {
   "display_name": "Python 3",
   "language": "python",
   "name": "python3"
  },
  "language_info": {
   "codemirror_mode": {
    "name": "ipython",
    "version": 3
   },
   "file_extension": ".py",
   "mimetype": "text/x-python",
   "name": "python",
   "nbconvert_exporter": "python",
   "pygments_lexer": "ipython3",
   "version": "3.5.1"
  }
 },
 "nbformat": 4,
 "nbformat_minor": 0
}
