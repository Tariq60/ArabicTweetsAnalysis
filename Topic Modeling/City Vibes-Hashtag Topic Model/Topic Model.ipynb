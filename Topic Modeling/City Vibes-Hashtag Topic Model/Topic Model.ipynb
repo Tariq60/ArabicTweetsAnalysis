{
 "metadata": {
  "kernelspec": {
   "display_name": "Python 3",
   "language": "python",
   "name": "python3"
  },
  "language_info": {
   "codemirror_mode": {
    "name": "ipython",
    "version": 3
   },
   "file_extension": ".py",
   "mimetype": "text/x-python",
   "name": "python",
   "nbconvert_exporter": "python",
   "pygments_lexer": "ipython3",
   "version": "3.5.1"
  },
  "name": "",
  "signature": "sha256:0d8833068304985e870c4b86f02830afb466d6dadb6fe897bc0801f35d013c72"
 },
 "nbformat": 3,
 "nbformat_minor": 0,
 "worksheets": [
  {
   "cells": [
    {
     "cell_type": "code",
     "collapsed": true,
     "input": [
      "# -\"- coding: utf-8 -\"-\n",
      "from __future__ import division\n",
      "import re\n",
      "from gensim import corpora, models, similarities\n",
      "import pickle"
     ],
     "language": "python",
     "metadata": {},
     "outputs": [],
     "prompt_number": 2
    },
    {
     "cell_type": "code",
     "collapsed": false,
     "input": [
      "texts = pickle.load(open(\"dic2.p\",\"rb\"))"
     ],
     "language": "python",
     "metadata": {},
     "outputs": [],
     "prompt_number": 3
    },
    {
     "cell_type": "code",
     "collapsed": true,
     "input": [
      "# remove words that appear only once\n",
      "from collections import defaultdict\n",
      "frequency = defaultdict(int)\n",
      "for text in texts:\n",
      "    for token in text:\n",
      "        frequency[token] += 1"
     ],
     "language": "python",
     "metadata": {},
     "outputs": [],
     "prompt_number": 4
    },
    {
     "cell_type": "code",
     "collapsed": false,
     "input": [
      "count = 0\n",
      "for k,v in frequency.items():\n",
      "    if v < 1500 and len(k)>=3:\n",
      "        count = count + 1\n",
      "print(count)\n",
      "\n",
      "texts2 = []\n",
      "for t in texts:\n",
      "    for w in t:\n",
      "        texts2.append(w)\n",
      "len(set(texts2))\n"
     ],
     "language": "python",
     "metadata": {},
     "outputs": [
      {
       "output_type": "stream",
       "stream": "stdout",
       "text": [
        "55513\n"
       ]
      },
      {
       "metadata": {},
       "output_type": "pyout",
       "prompt_number": 4,
       "text": [
        "56316"
       ]
      }
     ],
     "prompt_number": 4
    },
    {
     "cell_type": "code",
     "collapsed": true,
     "input": [
      "texts = [[token for token in text if frequency[token] > 1] for text in texts]\n",
      "texts = [[token for token in text if len(token)>= 3] for text in texts]"
     ],
     "language": "python",
     "metadata": {},
     "outputs": [],
     "prompt_number": 5
    },
    {
     "cell_type": "code",
     "collapsed": true,
     "input": [
      "dictionary = corpora.Dictionary(texts)\n",
      "#dictionary.save('C:/Users/Tariq/Dropbox (MIT)/Projects/3. ITS/Visualization_Summer_2016/arabic_tweets.dict')\n",
      "\n",
      "corpus = [dictionary.doc2bow(text) for text in texts]\n",
      "#corpora.MmCorpus.serialize('C:/Users/Tariq/Dropbox (MIT)/Projects/3. ITS/Visualization_Summer_2016/arabic_tweets.mm', corpus) "
     ],
     "language": "python",
     "metadata": {},
     "outputs": [],
     "prompt_number": 7
    },
    {
     "cell_type": "code",
     "collapsed": false,
     "input": [
      "lda = models.LdaModel(corpus, id2word=dictionary, num_topics=10)\n",
      "lda.print_topics()\n",
      "corpus_lda = lda[corpus]"
     ],
     "language": "python",
     "metadata": {},
     "outputs": [],
     "prompt_number": 8
    },
    {
     "cell_type": "code",
     "collapsed": false,
     "input": [
      "# topics distributions per document\n",
      "c=0\n",
      "for doc in corpus_lda:\n",
      "    print(c,doc)\n",
      "    c=c+1"
     ],
     "language": "python",
     "metadata": {},
     "outputs": [
      {
       "output_type": "stream",
       "stream": "stdout",
       "text": [
        "0 [(1, 0.090498270922467247), (3, 0.24157423915650444), (5, 0.51860250084717285), (8, 0.1493040075546303)]\n",
        "1 [(8, 0.99942982830369165)]\n",
        "2 [(4, 0.99999501724092033)]\n",
        "3 [(1, 0.94917394205124483), (9, 0.050736922766689514)]\n",
        "4 [(1, 0.91310238359853513), (2, 0.086891795428959306)]\n",
        "5 [(1, 0.11226301127438873), (5, 0.88162382909993831)]\n",
        "6 [(7, 0.99588162693201776)]\n",
        "7 [(8, 0.99978129271938565)]\n",
        "8 [(6, 0.34232171881041429), (8, 0.65723669018064435)]\n",
        "9 [(5, 0.27310342497602896), (6, 0.70336659314107741), (9, 0.023514358538565906)]\n",
        "10 [(5, 0.99924787657824266)]\n",
        "11 [(2, 0.99998352465238061)]\n",
        "12 [(1, 0.063144042255139241), (3, 0.15762185374813328), (5, 0.048466404885098374), (6, 0.5962814136175153), (9, 0.13444304950878022)]\n",
        "13 [(4, 0.99854261519142551)]\n",
        "14 [(9, 0.99997655882747738)]\n",
        "15 [(0, 0.99998879651029005)]\n",
        "16 [(7, 0.95723963570399406), (9, 0.038892084500889199)]\n",
        "17 [(7, 0.99997399967504164)]\n",
        "18 [(6, 0.98540129573654567), (8, 0.014588680875322703)]\n",
        "19 [(9, 0.99977336623416146)]\n"
       ]
      }
     ],
     "prompt_number": 9
    },
    {
     "cell_type": "code",
     "collapsed": false,
     "input": [
      "# topic distributions per documents with unused topics set to zero\n",
      "doc_topics = [[]] * 20\n",
      "j = 0\n",
      "for doc in corpus_lda:\n",
      "    doc_topics[j] = [0] * lda.num_topics\n",
      "    i = 0\n",
      "    while(i<len(doc)):\n",
      "        temp = doc[i]\n",
      "        doc_topics[j][temp[0]]=format(temp[1],'.4f')\n",
      "        i = i + 1\n",
      "    j = j + 1\n",
      "\n",
      "#print(doc_topics)"
     ],
     "language": "python",
     "metadata": {},
     "outputs": [],
     "prompt_number": 10
    },
    {
     "cell_type": "code",
     "collapsed": false,
     "input": [
      "labels = ['social','religious','social','funny','funny','funny','funny','social','social','social',\n",
      "          'social','religous','religous','sport','sport','funny','funny','funny','funny','social']"
     ],
     "language": "python",
     "metadata": {},
     "outputs": [],
     "prompt_number": 11
    },
    {
     "cell_type": "code",
     "collapsed": false,
     "input": [
      "import seaborn as sns\n",
      "import matplotlib.pyplot as plt\n",
      "import pandas as pd\n",
      "from sklearn.linear_model import LogisticRegression\n",
      "%matplotlib inline\n",
      "sns.set(font_scale=1.5)"
     ],
     "language": "python",
     "metadata": {},
     "outputs": [
      {
       "ename": "ImportError",
       "evalue": "No module named seaborn",
       "output_type": "pyerr",
       "traceback": [
        "\u001b[1;31m---------------------------------------------------------------------------\u001b[0m\n\u001b[1;31mImportError\u001b[0m                               Traceback (most recent call last)",
        "\u001b[1;32m<ipython-input-1-13d589c937b9>\u001b[0m in \u001b[0;36m<module>\u001b[1;34m()\u001b[0m\n\u001b[1;32m----> 1\u001b[1;33m \u001b[1;32mimport\u001b[0m \u001b[0mseaborn\u001b[0m \u001b[1;32mas\u001b[0m \u001b[0msns\u001b[0m\u001b[1;33m\u001b[0m\u001b[0m\n\u001b[0m\u001b[0;32m      2\u001b[0m \u001b[1;32mimport\u001b[0m \u001b[0mmatplotlib\u001b[0m\u001b[1;33m.\u001b[0m\u001b[0mpyplot\u001b[0m \u001b[1;32mas\u001b[0m \u001b[0mplt\u001b[0m\u001b[1;33m\u001b[0m\u001b[0m\n\u001b[0;32m      3\u001b[0m \u001b[1;32mimport\u001b[0m \u001b[0mpandas\u001b[0m \u001b[1;32mas\u001b[0m \u001b[0mpd\u001b[0m\u001b[1;33m\u001b[0m\u001b[0m\n\u001b[0;32m      4\u001b[0m \u001b[1;32mfrom\u001b[0m \u001b[0msklearn\u001b[0m\u001b[1;33m.\u001b[0m\u001b[0mlinear_model\u001b[0m \u001b[1;32mimport\u001b[0m \u001b[0mLogisticRegression\u001b[0m\u001b[1;33m\u001b[0m\u001b[0m\n\u001b[0;32m      5\u001b[0m \u001b[0mget_ipython\u001b[0m\u001b[1;33m(\u001b[0m\u001b[1;33m)\u001b[0m\u001b[1;33m.\u001b[0m\u001b[0mmagic\u001b[0m\u001b[1;33m(\u001b[0m\u001b[1;34mu'matplotlib inline'\u001b[0m\u001b[1;33m)\u001b[0m\u001b[1;33m\u001b[0m\u001b[0m\n",
        "\u001b[1;31mImportError\u001b[0m: No module named seaborn"
       ]
      }
     ],
     "prompt_number": 1
    },
    {
     "cell_type": "code",
     "collapsed": false,
     "input": [
      "labels = pd.Series(labels)\n",
      "#labels\n",
      "data = pd.DataFrame(doc_topics)\n",
      "#data"
     ],
     "language": "python",
     "metadata": {},
     "outputs": [],
     "prompt_number": 13
    },
    {
     "cell_type": "code",
     "collapsed": false,
     "input": [
      "# fit a logistic regression model and store the class predictions\n",
      "\n",
      "logreg = LogisticRegression(C=1e9)\n",
      "X = data\n",
      "y = labels\n",
      "logreg.fit(X, y)\n",
      "predictions = logreg.predict(X)\n",
      "#data['labels']= labels.values\n",
      "#data['predictions'] = predictions"
     ],
     "language": "python",
     "metadata": {},
     "outputs": [],
     "prompt_number": 14
    },
    {
     "cell_type": "code",
     "collapsed": false,
     "input": [
      "accuracy = [0] * 100\n",
      "for n in range(0,100):\n",
      "    lda = models.LdaModel(corpus, id2word=dictionary, num_topics=n+1)\n",
      "    lda.print_topics()\n",
      "    corpus_lda = lda[corpus]\n",
      "    \n",
      "    doc_topics = [[]] * 20\n",
      "    j = 0\n",
      "    for doc in corpus_lda:\n",
      "        doc_topics[j] = [0] * lda.num_topics\n",
      "        i = 0\n",
      "        while(i<len(doc)):\n",
      "            temp = doc[i]\n",
      "            doc_topics[j][temp[0]]=format(temp[1],'.4f')\n",
      "            i = i + 1\n",
      "        j = j + 1\n",
      "\n",
      "    data = pd.DataFrame(doc_topics)\n",
      "\n",
      "    logreg = LogisticRegression(C=1e9)\n",
      "    X = data\n",
      "    y = labels\n",
      "    logreg.fit(X, y)\n",
      "    predictions = logreg.predict(X)\n",
      "    \n",
      "    accuracy[n] = 0\n",
      "    for m in range(0,20):\n",
      "        #print(labels[m],\"\\t\\t\",predictions[m])\n",
      "        if predictions[m] == labels[m]:\n",
      "            accuracy[n] = accuracy[n] + 1\n",
      "    accuracy[n] = accuracy[n] / 20\n",
      "\n",
      "print(accuracy)"
     ],
     "language": "python",
     "metadata": {},
     "outputs": [
      {
       "output_type": "stream",
       "stream": "stdout",
       "text": [
        "[0.4, 0.65, 0.5, 0.6, 0.6, 0.8, 0.45, 0.65, 0.85, 0.75, 1.0, 0.85, 0.9, 0.95, 0.85, 0.95, 0.85, 0.95, 0.85, 1.0, 0.95, 1.0, 0.95, 1.0, 1.0, 1.0, 1.0, 1.0, 1.0, 1.0, 1.0, 1.0, 1.0, 1.0, 1.0, 1.0, 1.0, 1.0, 1.0, 1.0, 1.0, 1.0, 1.0, 1.0, 1.0, 1.0, 1.0, 1.0, 1.0, 1.0, 1.0, 1.0, 1.0, 1.0, 1.0, 1.0, 1.0, 1.0, 1.0, 1.0, 1.0, 1.0, 1.0, 1.0, 1.0, 1.0, 1.0, 1.0, 1.0, 1.0, 1.0, 1.0, 1.0, 1.0, 1.0, 1.0, 1.0, 1.0, 1.0, 1.0, 1.0, 1.0, 1.0, 1.0, 1.0, 1.0, 1.0, 1.0, 1.0, 1.0, 1.0, 1.0, 1.0, 1.0, 1.0, 1.0, 1.0, 1.0, 1.0, 1.0]\n"
       ]
      }
     ],
     "prompt_number": 27
    },
    {
     "cell_type": "code",
     "collapsed": false,
     "input": [
      "# plot the class predictions\n",
      "x = range(100)\n",
      "y = accuracy\n",
      "fig = plt.figure()\n",
      "ax1 = fig.add_subplot(111)\n",
      "\n",
      "#ax1.scatter(data[0], , s=10, c='b', marker=\"s\", label='first')\n",
      "ax1.scatter(x,y, s=10, c='r', marker=\"o\")\n",
      "#plt.legend(loc='upper left');\n",
      "plt.xlabel('Features')\n",
      "plt.ylabel('Accuracy')\n",
      "plt.show()\n",
      "#predictions"
     ],
     "language": "python",
     "metadata": {},
     "outputs": [
      {
       "metadata": {},
       "output_type": "display_data",
       "png": "[encoded data removed]",
       "text": [
        "<matplotlib.figure.Figure at 0x271b4a09a20>"
       ]
      }
     ],
     "prompt_number": 35
    },
    {
     "cell_type": "code",
     "collapsed": false,
     "input": [
      "import pandas as pd\n",
      "sample = pd.read_csv('C:/Users/Tariq/Dropbox (MIT)/Projects/3. ITS/Sentiment Analysis/AllTweets.csv', sep=',',header=0)\n",
      "tweets = sample['content'].values"
     ],
     "language": "python",
     "metadata": {},
     "outputs": [
      {
       "ename": "UnicodeDecodeError",
       "evalue": "'utf-8' codec can't decode byte 0x85 in position 490: invalid start byte",
       "output_type": "pyerr",
       "traceback": [
        "\u001b[1;31m---------------------------------------------------------------------------\u001b[0m",
        "\u001b[1;31mUnicodeDecodeError\u001b[0m                        Traceback (most recent call last)",
        "\u001b[1;32m<ipython-input-2-56cfa76268c0>\u001b[0m in \u001b[0;36m<module>\u001b[1;34m()\u001b[0m\n\u001b[0;32m      1\u001b[0m \u001b[1;32mimport\u001b[0m \u001b[0mpandas\u001b[0m \u001b[1;32mas\u001b[0m \u001b[0mpd\u001b[0m\u001b[1;33m\u001b[0m\u001b[0m\n\u001b[1;32m----> 2\u001b[1;33m \u001b[0msample\u001b[0m \u001b[1;33m=\u001b[0m \u001b[0mpd\u001b[0m\u001b[1;33m.\u001b[0m\u001b[0mread_csv\u001b[0m\u001b[1;33m(\u001b[0m\u001b[1;34m'C:/Users/Tariq/Dropbox (MIT)/Projects/3. ITS/Sentiment Analysis/AllTweets.csv'\u001b[0m\u001b[1;33m,\u001b[0m \u001b[0msep\u001b[0m\u001b[1;33m=\u001b[0m\u001b[1;34m','\u001b[0m\u001b[1;33m,\u001b[0m\u001b[0mheader\u001b[0m\u001b[1;33m=\u001b[0m\u001b[1;36m0\u001b[0m\u001b[1;33m)\u001b[0m\u001b[1;33m\u001b[0m\u001b[0m\n\u001b[0m\u001b[0;32m      3\u001b[0m \u001b[0mtweets\u001b[0m \u001b[1;33m=\u001b[0m \u001b[0msample\u001b[0m\u001b[1;33m[\u001b[0m\u001b[1;34m'content'\u001b[0m\u001b[1;33m]\u001b[0m\u001b[1;33m.\u001b[0m\u001b[0mvalues\u001b[0m\u001b[1;33m\u001b[0m\u001b[0m\n",
        "\u001b[1;32mC:\\Users\\Tariq\\Anaconda3\\lib\\site-packages\\pandas\\io\\parsers.py\u001b[0m in \u001b[0;36mparser_f\u001b[1;34m(filepath_or_buffer, sep, delimiter, header, names, index_col, usecols, squeeze, prefix, mangle_dupe_cols, dtype, engine, converters, true_values, false_values, skipinitialspace, skiprows, skipfooter, nrows, na_values, keep_default_na, na_filter, verbose, skip_blank_lines, parse_dates, infer_datetime_format, keep_date_col, date_parser, dayfirst, iterator, chunksize, compression, thousands, decimal, lineterminator, quotechar, quoting, escapechar, comment, encoding, dialect, tupleize_cols, error_bad_lines, warn_bad_lines, skip_footer, doublequote, delim_whitespace, as_recarray, compact_ints, use_unsigned, low_memory, buffer_lines, memory_map, float_precision)\u001b[0m\n\u001b[0;32m    527\u001b[0m                     skip_blank_lines=skip_blank_lines)\n\u001b[0;32m    528\u001b[0m \u001b[1;33m\u001b[0m\u001b[0m\n\u001b[1;32m--> 529\u001b[1;33m         \u001b[1;32mreturn\u001b[0m \u001b[0m_read\u001b[0m\u001b[1;33m(\u001b[0m\u001b[0mfilepath_or_buffer\u001b[0m\u001b[1;33m,\u001b[0m \u001b[0mkwds\u001b[0m\u001b[1;33m)\u001b[0m\u001b[1;33m\u001b[0m\u001b[0m\n\u001b[0m\u001b[0;32m    530\u001b[0m \u001b[1;33m\u001b[0m\u001b[0m\n\u001b[0;32m    531\u001b[0m     \u001b[0mparser_f\u001b[0m\u001b[1;33m.\u001b[0m\u001b[0m__name__\u001b[0m \u001b[1;33m=\u001b[0m \u001b[0mname\u001b[0m\u001b[1;33m\u001b[0m\u001b[0m\n",
        "\u001b[1;32mC:\\Users\\Tariq\\Anaconda3\\lib\\site-packages\\pandas\\io\\parsers.py\u001b[0m in \u001b[0;36m_read\u001b[1;34m(filepath_or_buffer, kwds)\u001b[0m\n\u001b[0;32m    303\u001b[0m         \u001b[1;32mreturn\u001b[0m \u001b[0mparser\u001b[0m\u001b[1;33m\u001b[0m\u001b[0m\n\u001b[0;32m    304\u001b[0m \u001b[1;33m\u001b[0m\u001b[0m\n\u001b[1;32m--> 305\u001b[1;33m     \u001b[1;32mreturn\u001b[0m \u001b[0mparser\u001b[0m\u001b[1;33m.\u001b[0m\u001b[0mread\u001b[0m\u001b[1;33m(\u001b[0m\u001b[1;33m)\u001b[0m\u001b[1;33m\u001b[0m\u001b[0m\n\u001b[0m\u001b[0;32m    306\u001b[0m \u001b[1;33m\u001b[0m\u001b[0m\n\u001b[0;32m    307\u001b[0m _parser_defaults = {\n",
        "\u001b[1;32mC:\\Users\\Tariq\\Anaconda3\\lib\\site-packages\\pandas\\io\\parsers.py\u001b[0m in \u001b[0;36mread\u001b[1;34m(self, nrows)\u001b[0m\n\u001b[0;32m    761\u001b[0m                 \u001b[1;32mraise\u001b[0m \u001b[0mValueError\u001b[0m\u001b[1;33m(\u001b[0m\u001b[1;34m'skip_footer not supported for iteration'\u001b[0m\u001b[1;33m)\u001b[0m\u001b[1;33m\u001b[0m\u001b[0m\n\u001b[0;32m    762\u001b[0m \u001b[1;33m\u001b[0m\u001b[0m\n\u001b[1;32m--> 763\u001b[1;33m         \u001b[0mret\u001b[0m \u001b[1;33m=\u001b[0m \u001b[0mself\u001b[0m\u001b[1;33m.\u001b[0m\u001b[0m_engine\u001b[0m\u001b[1;33m.\u001b[0m\u001b[0mread\u001b[0m\u001b[1;33m(\u001b[0m\u001b[0mnrows\u001b[0m\u001b[1;33m)\u001b[0m\u001b[1;33m\u001b[0m\u001b[0m\n\u001b[0m\u001b[0;32m    764\u001b[0m \u001b[1;33m\u001b[0m\u001b[0m\n\u001b[0;32m    765\u001b[0m         \u001b[1;32mif\u001b[0m \u001b[0mself\u001b[0m\u001b[1;33m.\u001b[0m\u001b[0moptions\u001b[0m\u001b[1;33m.\u001b[0m\u001b[0mget\u001b[0m\u001b[1;33m(\u001b[0m\u001b[1;34m'as_recarray'\u001b[0m\u001b[1;33m)\u001b[0m\u001b[1;33m:\u001b[0m\u001b[1;33m\u001b[0m\u001b[0m\n",
        "\u001b[1;32mC:\\Users\\Tariq\\Anaconda3\\lib\\site-packages\\pandas\\io\\parsers.py\u001b[0m in \u001b[0;36mread\u001b[1;34m(self, nrows)\u001b[0m\n\u001b[0;32m   1211\u001b[0m     \u001b[1;32mdef\u001b[0m \u001b[0mread\u001b[0m\u001b[1;33m(\u001b[0m\u001b[0mself\u001b[0m\u001b[1;33m,\u001b[0m \u001b[0mnrows\u001b[0m\u001b[1;33m=\u001b[0m\u001b[1;32mNone\u001b[0m\u001b[1;33m)\u001b[0m\u001b[1;33m:\u001b[0m\u001b[1;33m\u001b[0m\u001b[0m\n\u001b[0;32m   1212\u001b[0m         \u001b[1;32mtry\u001b[0m\u001b[1;33m:\u001b[0m\u001b[1;33m\u001b[0m\u001b[0m\n\u001b[1;32m-> 1213\u001b[1;33m             \u001b[0mdata\u001b[0m \u001b[1;33m=\u001b[0m \u001b[0mself\u001b[0m\u001b[1;33m.\u001b[0m\u001b[0m_reader\u001b[0m\u001b[1;33m.\u001b[0m\u001b[0mread\u001b[0m\u001b[1;33m(\u001b[0m\u001b[0mnrows\u001b[0m\u001b[1;33m)\u001b[0m\u001b[1;33m\u001b[0m\u001b[0m\n\u001b[0m\u001b[0;32m   1214\u001b[0m         \u001b[1;32mexcept\u001b[0m \u001b[0mStopIteration\u001b[0m\u001b[1;33m:\u001b[0m\u001b[1;33m\u001b[0m\u001b[0m\n\u001b[0;32m   1215\u001b[0m             \u001b[1;32mif\u001b[0m \u001b[0mself\u001b[0m\u001b[1;33m.\u001b[0m\u001b[0m_first_chunk\u001b[0m\u001b[1;33m:\u001b[0m\u001b[1;33m\u001b[0m\u001b[0m\n",
        "\u001b[1;32mpandas\\parser.pyx\u001b[0m in \u001b[0;36mpandas.parser.TextReader.read (pandas\\parser.c:7988)\u001b[1;34m()\u001b[0m\n",
        "\u001b[1;32mpandas\\parser.pyx\u001b[0m in \u001b[0;36mpandas.parser.TextReader._read_low_memory (pandas\\parser.c:8244)\u001b[1;34m()\u001b[0m\n",
        "\u001b[1;32mpandas\\parser.pyx\u001b[0m in \u001b[0;36mpandas.parser.TextReader._read_rows (pandas\\parser.c:9261)\u001b[1;34m()\u001b[0m\n",
        "\u001b[1;32mpandas\\parser.pyx\u001b[0m in \u001b[0;36mpandas.parser.TextReader._convert_column_data (pandas\\parser.c:10654)\u001b[1;34m()\u001b[0m\n",
        "\u001b[1;32mpandas\\parser.pyx\u001b[0m in \u001b[0;36mpandas.parser.TextReader._convert_tokens (pandas\\parser.c:11540)\u001b[1;34m()\u001b[0m\n",
        "\u001b[1;32mpandas\\parser.pyx\u001b[0m in \u001b[0;36mpandas.parser.TextReader._convert_with_dtype (pandas\\parser.c:12976)\u001b[1;34m()\u001b[0m\n",
        "\u001b[1;32mpandas\\parser.pyx\u001b[0m in \u001b[0;36mpandas.parser.TextReader._string_convert (pandas\\parser.c:13222)\u001b[1;34m()\u001b[0m\n",
        "\u001b[1;32mpandas\\parser.pyx\u001b[0m in \u001b[0;36mpandas.parser._string_box_utf8 (pandas\\parser.c:18598)\u001b[1;34m()\u001b[0m\n",
        "\u001b[1;31mUnicodeDecodeError\u001b[0m: 'utf-8' codec can't decode byte 0x85 in position 490: invalid start byte"
       ]
      }
     ],
     "prompt_number": 2
    },
    {
     "cell_type": "code",
     "collapsed": false,
     "input": [
      "data.keys()"
     ],
     "language": "python",
     "metadata": {},
     "outputs": [
      {
       "metadata": {},
       "output_type": "pyout",
       "prompt_number": 108,
       "text": [
        "Index([0, 1, 2, 3, 4, 'labels', 'predictions'], dtype='object')"
       ]
      }
     ],
     "prompt_number": 108
    }
   ],
   "metadata": {}
  }
 ]
}